{
  "cells": [
    {
      "cell_type": "code",
      "execution_count": null,
      "metadata": {
        "colab": {
          "base_uri": "https://localhost:8080/"
        },
        "id": "f-E4eKN-6sC1",
        "outputId": "8d476bee-908f-464c-d0ba-195f0ac2d536"
      },
      "outputs": [],
      "source": [
        "!pip install tensorflow==2.15"
      ]
    },
    {
      "cell_type": "code",
      "execution_count": null,
      "metadata": {
        "colab": {
          "base_uri": "https://localhost:8080/"
        },
        "id": "CGjOgEml1YDi",
        "outputId": "f1a1d1af-8605-478f-c830-e8f9a5d82d96"
      },
      "outputs": [],
      "source": [
        "!unzip copnn.zip"
      ]
    },
    {
      "cell_type": "code",
      "execution_count": null,
      "metadata": {
        "id": "aeSYO9Z-1qJ2"
      },
      "outputs": [],
      "source": [
        "import os\n",
        "import sys\n",
        "module_path = os.path.abspath(os.path.join('..'))\n",
        "if module_path not in sys.path:\n",
        "    sys.path.append(module_path)"
      ]
    },
    {
      "cell_type": "code",
      "execution_count": null,
      "metadata": {
        "id": "33gdnvnw1wku"
      },
      "outputs": [],
      "source": [
        "import time\n",
        "import gc\n",
        "import numpy as np\n",
        "import pandas as pd\n",
        "import matplotlib.pyplot as plt\n",
        "\n",
        "from sklearn.model_selection import KFold, train_test_split\n",
        "from sklearn.preprocessing import StandardScaler\n",
        "\n",
        "from copnn.regression import run_regression\n",
        "from copnn.simulation import Count\n",
        "from copnn.modes.categorical import Categorical\n",
        "from copnn.modes.longitudinal import Longitudinal\n",
        "from copnn.modes.spatial import Spatial\n",
        "from copnn.distributions import get_distribution"
      ]
    },
    {
      "cell_type": "code",
      "execution_count": null,
      "metadata": {
        "colab": {
          "base_uri": "https://localhost:8080/",
          "height": 273
        },
        "id": "nzMRXgip11-2",
        "outputId": "b362fe14-abe5-4fd6-d28c-5403184b7d85"
      },
      "outputs": [],
      "source": [
        "# Rossmann Store Sales dataset from Kaggle: https://www.kaggle.com/competitions/rossmann-store-sales/\n",
        "# Run rossmann_etl.R script\n",
        "rossmann = pd.read_csv('rossmann_extreme.csv')\n",
        "rossmann['Store'] = rossmann['Store'] - 1\n",
        "cols_to_drop = ['date', 'year', 'Customers', 'Q9']\n",
        "rossmann.drop(cols_to_drop, axis=1, inplace=True)\n",
        "print(rossmann.shape)\n",
        "rossmann.head()"
      ]
    },
    {
      "cell_type": "code",
      "execution_count": null,
      "metadata": {
        "colab": {
          "base_uri": "https://localhost:8080/"
        },
        "id": "dRPyZkaV2GsG",
        "outputId": "ffa19470-6225-451e-e630-8ef07a7c908d"
      },
      "outputs": [],
      "source": [
        "print(len(rossmann['Store'].unique()))\n",
        "print(rossmann['Store'].max())"
      ]
    },
    {
      "cell_type": "code",
      "execution_count": null,
      "metadata": {
        "id": "IzW4re7D2TWJ"
      },
      "outputs": [],
      "source": [
        "rossmann.rename(columns={'Store': 'z0', 'ExtremeMonth': 'y'}, inplace=True)"
      ]
    },
    {
      "cell_type": "code",
      "execution_count": null,
      "metadata": {
        "id": "wHDiuth52aHv"
      },
      "outputs": [],
      "source": [
        "n_cats = len(rossmann['z0'].unique())"
      ]
    },
    {
      "cell_type": "code",
      "execution_count": null,
      "metadata": {
        "id": "WmjlN4vU2jN0"
      },
      "outputs": [],
      "source": [
        "def get_mode(mode_par):\n",
        "    if mode_par == 'categorical':\n",
        "        mode = Categorical()\n",
        "    elif mode_par == 'longitudinal':\n",
        "        mode = Longitudinal()\n",
        "    elif mode_par == 'spatial':\n",
        "        mode = Spatial()\n",
        "    else:\n",
        "        raise NotImplementedError(f'{mode_par} mode not implemented.')\n",
        "    return mode"
      ]
    },
    {
      "cell_type": "code",
      "execution_count": null,
      "metadata": {
        "id": "mlO1Czeg2o8L"
      },
      "outputs": [],
      "source": [
        "y_type = 'binary'\n",
        "mode = get_mode('longitudinal')\n",
        "batch = 100\n",
        "epochs = 100\n",
        "patience = 5\n",
        "n_sig2bs = 3\n",
        "n_sig2bs_spatial = 0\n",
        "est_cors = []\n",
        "n_neurons = [10, 5]\n",
        "activation = 'relu'\n",
        "dropout = []\n",
        "spatial_embedded_neurons = []\n",
        "qs = [n_cats]\n",
        "dist_matrix = None\n",
        "q_spatial = None\n",
        "Z_non_linear = False\n",
        "Z_embed_dim_pct = 10\n",
        "time2measure_dict = {t: i for i, t in enumerate(np.sort(rossmann['t'].unique()))}\n",
        "pred_future = True # change this for future mode\n",
        "spatial_embed_neurons = None\n",
        "resolution = None\n",
        "verbose = True\n",
        "log_params = False\n",
        "idx = None\n",
        "shuffle = True\n",
        "b_true = None\n",
        "distributions = ['gaussian'] # gaussian is what COPNN expects for the binary probit model"
      ]
    },
    {
      "cell_type": "code",
      "execution_count": null,
      "metadata": {
        "id": "PX_V6lwT3aJm"
      },
      "outputs": [],
      "source": [
        "res = pd.DataFrame(columns=['pred_future', 'experiment', 'distribution', 'exp_type', 'auc_no_re', 'auc', 'sigma_e_est',\n",
        "                            'sigma_b0_est', 'sigma_b1_est', 'sigma_b2_est', 'rho_est', 'nll_tr', 'nll_te', 'n_epoch', 'time'])\n",
        "kf = KFold(n_splits=5, shuffle=True, random_state=40)\n",
        "counter = Count().gen()\n",
        "\n",
        "if pred_future:\n",
        "  # test set is \"the future\" or those obs with largest t\n",
        "  rossmann.sort_values(['t'], inplace=True)\n",
        "  X, X_future, y, y_future = train_test_split(\n",
        "      rossmann.drop('y', axis=1), rossmann['y'], test_size=0.2, shuffle=False)\n",
        "  X.index = np.arange(X.shape[0])\n",
        "  y.index = np.arange(X.shape[0])\n",
        "else:\n",
        "  X, y = rossmann.drop('y', axis=1), rossmann['y']\n",
        "\n",
        "x_cols = [col for col in X.columns if col not in ['z0']]\n",
        "x_cols_to_scale = [col for col in x_cols if col not in ['D1', 'D2', 't']]"
      ]
    },
    {
      "cell_type": "code",
      "execution_count": null,
      "metadata": {
        "id": "YBp8Fq6h4Jsa"
      },
      "outputs": [],
      "source": [
        "def iterate_reg_types(X_train, X_test, y_train, y_test, counter, i, verbose):\n",
        "    print(f'  started ignore...')\n",
        "    res_ignore = run_regression(\n",
        "        X_train, X_test, y_train, y_test, qs, q_spatial, x_cols,\n",
        "        batch, epochs, patience, n_neurons, dropout, activation, 'ignore',\n",
        "        Z_non_linear, Z_embed_dim_pct, mode, y_type, n_sig2bs, n_sig2bs_spatial, est_cors,\n",
        "        dist_matrix, time2measure_dict, spatial_embed_neurons, resolution, verbose,\n",
        "        log_params, idx, shuffle, None, b_true)\n",
        "    print('  finished ignore, auc: %.3f' % res_ignore.metric_mse)\n",
        "    res.loc[next(counter)] = [pred_future, i, 'gaussian', 'ignore', res_ignore.metric_mse_no_re, res_ignore.metric_mse,\n",
        "                              None, None, None, None, res_ignore.sig_ratio,\n",
        "                              res_ignore.nll_tr, res_ignore.nll_te, res_ignore.n_epochs, res_ignore.time]\n",
        "    print(f'  started ohe...')\n",
        "    res_ohe = run_regression(\n",
        "        X_train, X_test, y_train, y_test, qs, q_spatial, x_cols,\n",
        "        batch, epochs, patience, n_neurons, dropout, activation, 'ohe',\n",
        "        Z_non_linear, Z_embed_dim_pct, mode, y_type, n_sig2bs, n_sig2bs_spatial, est_cors,\n",
        "        dist_matrix, time2measure_dict, spatial_embed_neurons, resolution, verbose,\n",
        "        log_params, idx, shuffle, None, b_true)\n",
        "    print('  finished ohe, auc: %.3f' % res_ohe.metric_mse)\n",
        "    res.loc[next(counter)] = [pred_future, i, 'gaussian', 'ohe', res_ohe.metric_mse_no_re, res_ohe.metric_mse,\n",
        "                              None, None, None, None, res_ohe.sig_ratio,\n",
        "                              res_ohe.nll_tr, res_ohe.nll_te, res_ohe.n_epochs, res_ohe.time]\n",
        "    print(f'  started embedding...')\n",
        "    res_embed = run_regression(\n",
        "        X_train, X_test, y_train, y_test, qs, q_spatial, x_cols,\n",
        "        batch, epochs, patience, n_neurons, dropout, activation, 'embed',\n",
        "        Z_non_linear, Z_embed_dim_pct, mode, y_type, n_sig2bs, n_sig2bs_spatial, est_cors,\n",
        "        dist_matrix, time2measure_dict, spatial_embed_neurons, resolution, verbose,\n",
        "        log_params, idx, shuffle, None, b_true)\n",
        "    print('  finished embed, auc: %.3f' % res_embed.metric_mse)\n",
        "    res.loc[next(counter)] = [pred_future, i, 'gaussian', 'embed', res_embed.metric_mse_no_re, res_embed.metric_mse,\n",
        "                              None, None, None, None, res_embed.sig_ratio,\n",
        "                              res_embed.nll_tr, res_embed.nll_te, res_embed.n_epochs, res_embed.time]\n",
        "    print(f'  started lmmnn...')\n",
        "    res_lmmnn = run_regression(\n",
        "        X_train, X_test, y_train, y_test, qs, q_spatial, x_cols,\n",
        "        batch, epochs, patience, n_neurons, dropout, activation, 'lmmnn',\n",
        "        Z_non_linear, Z_embed_dim_pct, mode, y_type, n_sig2bs, n_sig2bs_spatial, est_cors,\n",
        "        dist_matrix, time2measure_dict, spatial_embed_neurons, resolution, verbose,\n",
        "        log_params, idx, shuffle, None, b_true)\n",
        "    print('  finished lmmnn, auc: %.3f' % res_lmmnn.metric_mse)\n",
        "    res.loc[next(counter)] = [pred_future, i, 'gaussian', 'lmmnn', res_lmmnn.metric_mse_no_re, res_lmmnn.metric_mse,\n",
        "                              res_lmmnn.sigmas[0], res_lmmnn.sigmas[1][0], res_lmmnn.sigmas[1][1], res_lmmnn.sigmas[1][2], res_lmmnn.sig_ratio,\n",
        "                              res_lmmnn.nll_tr, res_lmmnn.nll_te, res_lmmnn.n_epochs, res_lmmnn.time]\n",
        "    for fit_dist in distributions:\n",
        "        fit_dist = get_distribution(fit_dist)\n",
        "        print(f'  started copnn with marginal: {fit_dist}...')\n",
        "        res_copnn = run_regression(\n",
        "            X_train, X_test, y_train, y_test, qs, q_spatial, x_cols,\n",
        "            batch, epochs, patience, n_neurons, dropout, activation, 'copnn',\n",
        "            Z_non_linear, Z_embed_dim_pct, mode, y_type, n_sig2bs, n_sig2bs_spatial, est_cors,\n",
        "            dist_matrix, time2measure_dict, spatial_embed_neurons, resolution, verbose,\n",
        "            log_params, idx, shuffle, fit_dist, b_true)\n",
        "        print('  finished copnn, auc: %.3f' % res_copnn.metric_mse)\n",
        "        res.loc[next(counter)] = [pred_future, i, fit_dist, 'copnn', res_copnn.metric_mse_no_re, res_copnn.metric_mse,\n",
        "                                  res_copnn.sigmas[0], res_copnn.sigmas[1][0], res_copnn.sigmas[1][1], res_copnn.sigmas[1][2], res_copnn.sig_ratio,\n",
        "                                  res_copnn.nll_tr, res_copnn.nll_te, res_copnn.n_epochs, res_copnn.time]\n",
        "    res.to_csv('res.csv')"
      ]
    },
    {
      "cell_type": "code",
      "execution_count": null,
      "metadata": {
        "colab": {
          "base_uri": "https://localhost:8080/"
        },
        "id": "_iNAisAj5xSA",
        "outputId": "48fd8b69-80e3-49a2-9bc0-1f304c37ac9e"
      },
      "outputs": [],
      "source": [
        "for i, (train_index, test_index) in enumerate(kf.split(X, y)):\n",
        "    print('iteration %d' % i)\n",
        "    if not pred_future:\n",
        "      X_train, X_test, y_train, y_test = X.loc[train_index].copy(), X.loc[test_index].copy(), y[train_index], y[test_index]\n",
        "    else:\n",
        "      X_train, X_test, y_train, y_test = X.loc[train_index].copy(), X_future.copy(), y[train_index], y_future.copy()\n",
        "    scaler = StandardScaler()\n",
        "    X_train[x_cols_to_scale] = scaler.fit_transform(X_train[x_cols_to_scale])\n",
        "    X_test[x_cols_to_scale] = scaler.transform(X_test[x_cols_to_scale])\n",
        "    iterate_reg_types(X_train, X_test, y_train, y_test, counter, i, verbose)"
      ]
    }
  ],
  "metadata": {
    "colab": {
      "provenance": []
    },
    "kernelspec": {
      "display_name": "Python 3",
      "name": "python3"
    },
    "language_info": {
      "name": "python"
    }
  },
  "nbformat": 4,
  "nbformat_minor": 0
}
